{
 "cells": [
  {
   "cell_type": "code",
   "execution_count": 1,
   "metadata": {},
   "outputs": [],
   "source": [
    "import pandas as pd\n",
    "import numpy as np\n",
    "import csv\n",
    "import scipy.stats as stats\n",
    "from scipy.stats import sem, ttest_ind\n",
    "#from spread import variance, standard_deviation, zipped_z_scores"
   ]
  },
  {
   "cell_type": "code",
   "execution_count": 2,
   "metadata": {},
   "outputs": [],
   "source": [
    "crime_pop_df = pd.read_csv('crime_sides_pop.csv')"
   ]
  },
  {
   "cell_type": "code",
   "execution_count": 3,
   "metadata": {},
   "outputs": [
    {
     "data": {
      "text/plain": [
       "Index(['Unnamed: 0', 'Unnamed: 0.1', 'Name', 'Pop_2010', 'Area', 'Side',\n",
       "       'Crimes_Reported'],\n",
       "      dtype='object')"
      ]
     },
     "execution_count": 3,
     "metadata": {},
     "output_type": "execute_result"
    }
   ],
   "source": [
    "crime_pop_df.columns"
   ]
  },
  {
   "cell_type": "code",
   "execution_count": 4,
   "metadata": {},
   "outputs": [],
   "source": [
    "total_crime = crime_pop_df['Crimes_Reported'].sum()"
   ]
  },
  {
   "cell_type": "code",
   "execution_count": 5,
   "metadata": {},
   "outputs": [
    {
     "name": "stdout",
     "output_type": "stream",
     "text": [
      "346272.0\n"
     ]
    }
   ],
   "source": [
    "print(total_crime)"
   ]
  },
  {
   "cell_type": "code",
   "execution_count": 6,
   "metadata": {},
   "outputs": [],
   "source": [
    "total_population = crime_pop_df['Pop_2010'].sum()"
   ]
  },
  {
   "cell_type": "code",
   "execution_count": 7,
   "metadata": {},
   "outputs": [
    {
     "name": "stdout",
     "output_type": "stream",
     "text": [
      "2695598\n"
     ]
    }
   ],
   "source": [
    "print(total_population)"
   ]
  },
  {
   "cell_type": "code",
   "execution_count": 8,
   "metadata": {},
   "outputs": [],
   "source": [
    "avg_crime_per_person = total_crime/total_population"
   ]
  },
  {
   "cell_type": "code",
   "execution_count": 9,
   "metadata": {},
   "outputs": [
    {
     "name": "stdout",
     "output_type": "stream",
     "text": [
      "0.1284583235334052\n"
     ]
    }
   ],
   "source": [
    "print(avg_crime_per_person)"
   ]
  },
  {
   "cell_type": "code",
   "execution_count": 10,
   "metadata": {},
   "outputs": [],
   "source": [
    "group_data = crime_pop_df.groupby(['Side'])[['Pop_2010','Crimes_Reported']].sum()"
   ]
  },
  {
   "cell_type": "code",
   "execution_count": 11,
   "metadata": {},
   "outputs": [],
   "source": [
    "data_df = pd.DataFrame(group_data)"
   ]
  },
  {
   "cell_type": "code",
   "execution_count": 12,
   "metadata": {},
   "outputs": [
    {
     "data": {
      "text/html": [
       "<div>\n",
       "<style scoped>\n",
       "    .dataframe tbody tr th:only-of-type {\n",
       "        vertical-align: middle;\n",
       "    }\n",
       "\n",
       "    .dataframe tbody tr th {\n",
       "        vertical-align: top;\n",
       "    }\n",
       "\n",
       "    .dataframe thead th {\n",
       "        text-align: right;\n",
       "    }\n",
       "</style>\n",
       "<table border=\"1\" class=\"dataframe\">\n",
       "  <thead>\n",
       "    <tr style=\"text-align: right;\">\n",
       "      <th></th>\n",
       "      <th>Pop_2010</th>\n",
       "      <th>Crimes_Reported</th>\n",
       "    </tr>\n",
       "    <tr>\n",
       "      <th>Side</th>\n",
       "      <th></th>\n",
       "      <th></th>\n",
       "    </tr>\n",
       "  </thead>\n",
       "  <tbody>\n",
       "    <tr>\n",
       "      <th>Central</th>\n",
       "      <td>101874</td>\n",
       "      <td>13593.0</td>\n",
       "    </tr>\n",
       "    <tr>\n",
       "      <th>Far North</th>\n",
       "      <td>440948</td>\n",
       "      <td>30349.0</td>\n",
       "    </tr>\n",
       "    <tr>\n",
       "      <th>Far Southeast</th>\n",
       "      <td>210981</td>\n",
       "      <td>40956.0</td>\n",
       "    </tr>\n",
       "    <tr>\n",
       "      <th>Far Southwest</th>\n",
       "      <td>177988</td>\n",
       "      <td>24053.0</td>\n",
       "    </tr>\n",
       "    <tr>\n",
       "      <th>North</th>\n",
       "      <td>302404</td>\n",
       "      <td>27229.0</td>\n",
       "    </tr>\n",
       "    <tr>\n",
       "      <th>North West</th>\n",
       "      <td>276594</td>\n",
       "      <td>22422.0</td>\n",
       "    </tr>\n",
       "    <tr>\n",
       "      <th>South</th>\n",
       "      <td>257920</td>\n",
       "      <td>50276.0</td>\n",
       "    </tr>\n",
       "    <tr>\n",
       "      <th>Southwest</th>\n",
       "      <td>318307</td>\n",
       "      <td>46115.0</td>\n",
       "    </tr>\n",
       "    <tr>\n",
       "      <th>West</th>\n",
       "      <td>481491</td>\n",
       "      <td>91279.0</td>\n",
       "    </tr>\n",
       "  </tbody>\n",
       "</table>\n",
       "</div>"
      ],
      "text/plain": [
       "               Pop_2010  Crimes_Reported\n",
       "Side                                    \n",
       "Central          101874          13593.0\n",
       "Far North        440948          30349.0\n",
       "Far Southeast    210981          40956.0\n",
       "Far Southwest    177988          24053.0\n",
       "North            302404          27229.0\n",
       "North West       276594          22422.0\n",
       "South            257920          50276.0\n",
       "Southwest        318307          46115.0\n",
       "West             481491          91279.0"
      ]
     },
     "execution_count": 12,
     "metadata": {},
     "output_type": "execute_result"
    }
   ],
   "source": [
    "data_df"
   ]
  },
  {
   "cell_type": "code",
   "execution_count": 13,
   "metadata": {},
   "outputs": [],
   "source": [
    "data_df['Expected_Crime'] = data_df['Pop_2010'] * avg_crime_per_person"
   ]
  },
  {
   "cell_type": "code",
   "execution_count": 14,
   "metadata": {},
   "outputs": [
    {
     "data": {
      "text/html": [
       "<div>\n",
       "<style scoped>\n",
       "    .dataframe tbody tr th:only-of-type {\n",
       "        vertical-align: middle;\n",
       "    }\n",
       "\n",
       "    .dataframe tbody tr th {\n",
       "        vertical-align: top;\n",
       "    }\n",
       "\n",
       "    .dataframe thead th {\n",
       "        text-align: right;\n",
       "    }\n",
       "</style>\n",
       "<table border=\"1\" class=\"dataframe\">\n",
       "  <thead>\n",
       "    <tr style=\"text-align: right;\">\n",
       "      <th></th>\n",
       "      <th>Pop_2010</th>\n",
       "      <th>Crimes_Reported</th>\n",
       "      <th>Expected_Crime</th>\n",
       "    </tr>\n",
       "    <tr>\n",
       "      <th>Side</th>\n",
       "      <th></th>\n",
       "      <th></th>\n",
       "      <th></th>\n",
       "    </tr>\n",
       "  </thead>\n",
       "  <tbody>\n",
       "    <tr>\n",
       "      <th>Central</th>\n",
       "      <td>101874</td>\n",
       "      <td>13593.0</td>\n",
       "      <td>13086.563252</td>\n",
       "    </tr>\n",
       "    <tr>\n",
       "      <th>Far North</th>\n",
       "      <td>440948</td>\n",
       "      <td>30349.0</td>\n",
       "      <td>56643.440845</td>\n",
       "    </tr>\n",
       "    <tr>\n",
       "      <th>Far Southeast</th>\n",
       "      <td>210981</td>\n",
       "      <td>40956.0</td>\n",
       "      <td>27102.265557</td>\n",
       "    </tr>\n",
       "    <tr>\n",
       "      <th>Far Southwest</th>\n",
       "      <td>177988</td>\n",
       "      <td>24053.0</td>\n",
       "      <td>22864.040089</td>\n",
       "    </tr>\n",
       "    <tr>\n",
       "      <th>North</th>\n",
       "      <td>302404</td>\n",
       "      <td>27229.0</td>\n",
       "      <td>38846.310870</td>\n",
       "    </tr>\n",
       "    <tr>\n",
       "      <th>North West</th>\n",
       "      <td>276594</td>\n",
       "      <td>22422.0</td>\n",
       "      <td>35530.801539</td>\n",
       "    </tr>\n",
       "    <tr>\n",
       "      <th>South</th>\n",
       "      <td>257920</td>\n",
       "      <td>50276.0</td>\n",
       "      <td>33131.970806</td>\n",
       "    </tr>\n",
       "    <tr>\n",
       "      <th>Southwest</th>\n",
       "      <td>318307</td>\n",
       "      <td>46115.0</td>\n",
       "      <td>40889.183589</td>\n",
       "    </tr>\n",
       "    <tr>\n",
       "      <th>West</th>\n",
       "      <td>481491</td>\n",
       "      <td>91279.0</td>\n",
       "      <td>61851.526656</td>\n",
       "    </tr>\n",
       "  </tbody>\n",
       "</table>\n",
       "</div>"
      ],
      "text/plain": [
       "               Pop_2010  Crimes_Reported  Expected_Crime\n",
       "Side                                                    \n",
       "Central          101874          13593.0    13086.563252\n",
       "Far North        440948          30349.0    56643.440845\n",
       "Far Southeast    210981          40956.0    27102.265557\n",
       "Far Southwest    177988          24053.0    22864.040089\n",
       "North            302404          27229.0    38846.310870\n",
       "North West       276594          22422.0    35530.801539\n",
       "South            257920          50276.0    33131.970806\n",
       "Southwest        318307          46115.0    40889.183589\n",
       "West             481491          91279.0    61851.526656"
      ]
     },
     "execution_count": 14,
     "metadata": {},
     "output_type": "execute_result"
    }
   ],
   "source": [
    "data_df"
   ]
  },
  {
   "cell_type": "code",
   "execution_count": 15,
   "metadata": {},
   "outputs": [
    {
     "data": {
      "text/html": [
       "<div>\n",
       "<style scoped>\n",
       "    .dataframe tbody tr th:only-of-type {\n",
       "        vertical-align: middle;\n",
       "    }\n",
       "\n",
       "    .dataframe tbody tr th {\n",
       "        vertical-align: top;\n",
       "    }\n",
       "\n",
       "    .dataframe thead th {\n",
       "        text-align: right;\n",
       "    }\n",
       "</style>\n",
       "<table border=\"1\" class=\"dataframe\">\n",
       "  <thead>\n",
       "    <tr style=\"text-align: right;\">\n",
       "      <th></th>\n",
       "      <th>Pop_2010</th>\n",
       "      <th>Crimes_Reported</th>\n",
       "      <th>Expected_Crime</th>\n",
       "    </tr>\n",
       "    <tr>\n",
       "      <th>Side</th>\n",
       "      <th></th>\n",
       "      <th></th>\n",
       "      <th></th>\n",
       "    </tr>\n",
       "  </thead>\n",
       "  <tbody>\n",
       "    <tr>\n",
       "      <th>Central</th>\n",
       "      <td>101874</td>\n",
       "      <td>13593.0</td>\n",
       "      <td>13087.0</td>\n",
       "    </tr>\n",
       "    <tr>\n",
       "      <th>Far North</th>\n",
       "      <td>440948</td>\n",
       "      <td>30349.0</td>\n",
       "      <td>56643.0</td>\n",
       "    </tr>\n",
       "    <tr>\n",
       "      <th>Far Southeast</th>\n",
       "      <td>210981</td>\n",
       "      <td>40956.0</td>\n",
       "      <td>27102.0</td>\n",
       "    </tr>\n",
       "    <tr>\n",
       "      <th>Far Southwest</th>\n",
       "      <td>177988</td>\n",
       "      <td>24053.0</td>\n",
       "      <td>22864.0</td>\n",
       "    </tr>\n",
       "    <tr>\n",
       "      <th>North</th>\n",
       "      <td>302404</td>\n",
       "      <td>27229.0</td>\n",
       "      <td>38846.0</td>\n",
       "    </tr>\n",
       "    <tr>\n",
       "      <th>North West</th>\n",
       "      <td>276594</td>\n",
       "      <td>22422.0</td>\n",
       "      <td>35531.0</td>\n",
       "    </tr>\n",
       "    <tr>\n",
       "      <th>South</th>\n",
       "      <td>257920</td>\n",
       "      <td>50276.0</td>\n",
       "      <td>33132.0</td>\n",
       "    </tr>\n",
       "    <tr>\n",
       "      <th>Southwest</th>\n",
       "      <td>318307</td>\n",
       "      <td>46115.0</td>\n",
       "      <td>40889.0</td>\n",
       "    </tr>\n",
       "    <tr>\n",
       "      <th>West</th>\n",
       "      <td>481491</td>\n",
       "      <td>91279.0</td>\n",
       "      <td>61852.0</td>\n",
       "    </tr>\n",
       "  </tbody>\n",
       "</table>\n",
       "</div>"
      ],
      "text/plain": [
       "               Pop_2010  Crimes_Reported  Expected_Crime\n",
       "Side                                                    \n",
       "Central          101874          13593.0         13087.0\n",
       "Far North        440948          30349.0         56643.0\n",
       "Far Southeast    210981          40956.0         27102.0\n",
       "Far Southwest    177988          24053.0         22864.0\n",
       "North            302404          27229.0         38846.0\n",
       "North West       276594          22422.0         35531.0\n",
       "South            257920          50276.0         33132.0\n",
       "Southwest        318307          46115.0         40889.0\n",
       "West             481491          91279.0         61852.0"
      ]
     },
     "execution_count": 15,
     "metadata": {},
     "output_type": "execute_result"
    }
   ],
   "source": [
    "data_df.apply(np.round)"
   ]
  },
  {
   "cell_type": "code",
   "execution_count": 16,
   "metadata": {},
   "outputs": [
    {
     "data": {
      "text/plain": [
       "Ttest_indResult(statistic=0.1958433961703144, pvalue=0.8471983895523071)"
      ]
     },
     "execution_count": 16,
     "metadata": {},
     "output_type": "execute_result"
    }
   ],
   "source": [
    "ttest_ind(data_df['Crimes_Reported'], data_df['Expected_Crime'])"
   ]
  }
 ],
 "metadata": {
  "kernelspec": {
   "display_name": "Python 3",
   "language": "python",
   "name": "python3"
  },
  "language_info": {
   "codemirror_mode": {
    "name": "ipython",
    "version": 3
   },
   "file_extension": ".py",
   "mimetype": "text/x-python",
   "name": "python",
   "nbconvert_exporter": "python",
   "pygments_lexer": "ipython3",
   "version": "3.7.0"
  }
 },
 "nbformat": 4,
 "nbformat_minor": 2
}
